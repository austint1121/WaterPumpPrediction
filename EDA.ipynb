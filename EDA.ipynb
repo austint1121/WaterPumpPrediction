{
 "cells": [
  {
   "cell_type": "markdown",
   "id": "461a2889",
   "metadata": {},
   "source": [
    "# EDA Notebook\n",
    "In this notebook, I'm going to do some exploratory data analysis on the data. I'll check if there are NaN values, distributions of different features, and data types present in the data."
   ]
  },
  {
   "cell_type": "code",
   "execution_count": 11,
   "id": "1b9e3dc1",
   "metadata": {},
   "outputs": [],
   "source": [
    "# Import Statements\n",
    "import pandas as pd\n",
    "import numpy as np\n",
    "import matplotlib.pyplot as plt\n",
    "import seaborn as sns"
   ]
  },
  {
   "cell_type": "code",
   "execution_count": 5,
   "id": "f3b3139e",
   "metadata": {},
   "outputs": [],
   "source": [
    "# Load training data into dataframe\n",
    "X_train = pd.read_csv('./Data/Training_Features.csv')\n",
    "\n",
    "y_train = pd.read_csv('./Data/Training_Labels.csv')"
   ]
  },
  {
   "cell_type": "markdown",
   "id": "38d2b645",
   "metadata": {},
   "source": [
    "## Training Labels\n",
    "First, I'm going to take a quick look at our prediction target. I want to see how it's formatted, and the distribution of the pump statuses."
   ]
  },
  {
   "cell_type": "code",
   "execution_count": 6,
   "id": "b32402f0",
   "metadata": {},
   "outputs": [
    {
     "name": "stdout",
     "output_type": "stream",
     "text": [
      "<class 'pandas.core.frame.DataFrame'>\n",
      "RangeIndex: 59400 entries, 0 to 59399\n",
      "Data columns (total 2 columns):\n",
      " #   Column        Non-Null Count  Dtype \n",
      "---  ------        --------------  ----- \n",
      " 0   id            59400 non-null  int64 \n",
      " 1   status_group  59400 non-null  object\n",
      "dtypes: int64(1), object(1)\n",
      "memory usage: 928.2+ KB\n"
     ]
    }
   ],
   "source": [
    "# Checking Data type of labels, and Non-Null counts\n",
    "y_train.info()"
   ]
  },
  {
   "cell_type": "code",
   "execution_count": 7,
   "id": "b69842ed",
   "metadata": {},
   "outputs": [
    {
     "data": {
      "text/plain": [
       "functional                 32259\n",
       "non functional             22824\n",
       "functional needs repair     4317\n",
       "Name: status_group, dtype: int64"
      ]
     },
     "execution_count": 7,
     "metadata": {},
     "output_type": "execute_result"
    }
   ],
   "source": [
    "# The status_group is an Object type, let's look deeper.\n",
    "y_train['status_group'].value_counts()"
   ]
  },
  {
   "cell_type": "code",
   "execution_count": 8,
   "id": "14a40a8a",
   "metadata": {},
   "outputs": [
    {
     "data": {
      "text/plain": [
       "functional                 0.543081\n",
       "non functional             0.384242\n",
       "functional needs repair    0.072677\n",
       "Name: status_group, dtype: float64"
      ]
     },
     "execution_count": 8,
     "metadata": {},
     "output_type": "execute_result"
    }
   ],
   "source": [
    "# Distrubution \n",
    "y_train['status_group'].value_counts(normalize=True)"
   ]
  },
  {
   "cell_type": "code",
   "execution_count": 20,
   "id": "c136f2ed",
   "metadata": {},
   "outputs": [
    {
     "data": {
      "image/png": "[encoded data removed]",
      "text/plain": [
       "<Figure size 576x432 with 1 Axes>"
      ]
     },
     "metadata": {
      "needs_background": "light"
     },
     "output_type": "display_data"
    }
   ],
   "source": [
    "# Create figure and axis\n",
    "status_group_fig, status_group_ax = plt.subplots(figsize=(8, 6))\n",
    "\n",
    "# Create plot and add annotations\n",
    "status_group_dist = sns.histplot(y_train['status_group'], ax=status_group_ax)\n",
    "status_group_dist.set(title='Class Distribution of Status Group');"
   ]
  },
  {
   "cell_type": "markdown",
   "id": "a148301a",
   "metadata": {},
   "source": [
    "So there are 3 \"classes\" that these pumps could be assigned to, and theres a large imbalance between the classes. Later, these classes will have to be ordinally encoded."
   ]
  },
  {
   "cell_type": "markdown",
   "id": "0862a489",
   "metadata": {},
   "source": [
    "## Training Features\n",
    "Now, I'm going to investigate the training features in the same way, I'll be looking for anything out of place, that may need to be addressed before modeling. I will also investigate some distributions, and the relationships between features."
   ]
  },
  {
   "cell_type": "code",
   "execution_count": 21,
   "id": "84325038",
   "metadata": {},
   "outputs": [
    {
     "name": "stdout",
     "output_type": "stream",
     "text": [
      "<class 'pandas.core.frame.DataFrame'>\n",
      "RangeIndex: 59400 entries, 0 to 59399\n",
      "Data columns (total 40 columns):\n",
      " #   Column                 Non-Null Count  Dtype  \n",
      "---  ------                 --------------  -----  \n",
      " 0   id                     59400 non-null  int64  \n",
      " 1   amount_tsh             59400 non-null  float64\n",
      " 2   date_recorded          59400 non-null  object \n",
      " 3   funder                 55765 non-null  object \n",
      " 4   gps_height             59400 non-null  int64  \n",
      " 5   installer              55745 non-null  object \n",
      " 6   longitude              59400 non-null  float64\n",
      " 7   latitude               59400 non-null  float64\n",
      " 8   wpt_name               59400 non-null  object \n",
      " 9   num_private            59400 non-null  int64  \n",
      " 10  basin                  59400 non-null  object \n",
      " 11  subvillage             59029 non-null  object \n",
      " 12  region                 59400 non-null  object \n",
      " 13  region_code            59400 non-null  int64  \n",
      " 14  district_code          59400 non-null  int64  \n",
      " 15  lga                    59400 non-null  object \n",
      " 16  ward                   59400 non-null  object \n",
      " 17  population             59400 non-null  int64  \n",
      " 18  public_meeting         56066 non-null  object \n",
      " 19  recorded_by            59400 non-null  object \n",
      " 20  scheme_management      55523 non-null  object \n",
      " 21  scheme_name            31234 non-null  object \n",
      " 22  permit                 56344 non-null  object \n",
      " 23  construction_year      59400 non-null  int64  \n",
      " 24  extraction_type        59400 non-null  object \n",
      " 25  extraction_type_group  59400 non-null  object \n",
      " 26  extraction_type_class  59400 non-null  object \n",
      " 27  management             59400 non-null  object \n",
      " 28  management_group       59400 non-null  object \n",
      " 29  payment                59400 non-null  object \n",
      " 30  payment_type           59400 non-null  object \n",
      " 31  water_quality          59400 non-null  object \n",
      " 32  quality_group          59400 non-null  object \n",
      " 33  quantity               59400 non-null  object \n",
      " 34  quantity_group         59400 non-null  object \n",
      " 35  source                 59400 non-null  object \n",
      " 36  source_type            59400 non-null  object \n",
      " 37  source_class           59400 non-null  object \n",
      " 38  waterpoint_type        59400 non-null  object \n",
      " 39  waterpoint_type_group  59400 non-null  object \n",
      "dtypes: float64(3), int64(7), object(30)\n",
      "memory usage: 18.1+ MB\n"
     ]
    }
   ],
   "source": [
    "# Let's start with an overview of the training data\n",
    "X_train.info()"
   ]
  },
  {
   "cell_type": "code",
   "execution_count": null,
   "id": "356bac77",
   "metadata": {},
   "outputs": [],
   "source": []
  }
 ],
 "metadata": {
  "kernelspec": {
   "display_name": "KaggleJTP",
   "language": "python",
   "name": "kagglejtp"
  },
  "language_info": {
   "codemirror_mode": {
    "name": "ipython",
    "version": 3
   },
   "file_extension": ".py",
   "mimetype": "text/x-python",
   "name": "python",
   "nbconvert_exporter": "python",
   "pygments_lexer": "ipython3",
   "version": "3.9.7"
  }
 },
 "nbformat": 4,
 "nbformat_minor": 5
}
