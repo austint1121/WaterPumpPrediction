{
 "cells": [
  {
   "cell_type": "markdown",
   "metadata": {},
   "source": [
    "# Catboost Modeling\n",
    "In this notebook I'll be using [Catboost](https://catboost.ai/en/docs/). Catboost handles much of the data cleaning internally, so I'm going to import the raw data again, and then create a model using the training data."
   ]
  },
  {
   "cell_type": "markdown",
   "metadata": {},
   "source": [
    "## Preproccessing\n",
    "This preproccesing will be the same as in the Sklearn notebooks, but we won't be scaling or performing one hot encoding. Catboost will handle these things internally."
   ]
  },
  {
   "cell_type": "code",
   "execution_count": 100,
   "metadata": {},
   "outputs": [],
   "source": [
    "# Import statements\n",
    "from catboost import CatBoostClassifier, metrics, Pool, cv\n",
    "import pandas as pd\n",
    "import numpy as np\n",
    "import matplotlib.pyplot as plt\n",
    "import seaborn as sns\n",
    "from sklearn.impute import SimpleImputer\n",
    "from sklearn.preprocessing import OrdinalEncoder, OneHotEncoder, StandardScaler, MinMaxScaler\n",
    "from sklearn.pipeline import Pipeline\n",
    "from sklearn.compose import ColumnTransformer"
   ]
  },
  {
   "cell_type": "code",
   "execution_count": 73,
   "metadata": {},
   "outputs": [],
   "source": [
    "# Load training data into dataframe\n",
    "X_train = pd.read_csv('../Data/Training_Features.csv')\n",
    "X_train.drop(columns=['date_recorded', 'permit', 'public_meeting'], inplace=True)\n",
    "X_test = pd.read_csv('../Data/Test_Features.csv')\n",
    "\n",
    "y_train = pd.read_csv('../Data/Training_Labels.csv')\n",
    "y_train = y_train['status_group']"
   ]
  },
  {
   "cell_type": "code",
   "execution_count": 74,
   "metadata": {},
   "outputs": [
    {
     "data": {
      "text/plain": [
       "1    32259\n",
       "0    22824\n",
       "2     4317\n",
       "Name: status_group, dtype: int64"
      ]
     },
     "execution_count": 74,
     "metadata": {},
     "output_type": "execute_result"
    }
   ],
   "source": [
    "# Ordinally encoding the target.\n",
    "y_train.replace({'functional': 1, 'non functional': 0, 'functional needs repair': 2}, inplace=True)\n",
    "y_train.value_counts()"
   ]
  },
  {
   "cell_type": "code",
   "execution_count": 92,
   "metadata": {},
   "outputs": [],
   "source": [
    "# Drop columns with NaN values\n",
    "X_train.dropna(axis=1, inplace=True)"
   ]
  },
  {
   "cell_type": "code",
   "execution_count": 93,
   "metadata": {},
   "outputs": [],
   "source": [
    "# make the lists of columns\n",
    "# num = any columns with numerical value\n",
    "num = []\n",
    "# obj = any columns with object value\n",
    "obj = []\n",
    "for c in X_train.columns:\n",
    "    if X_train[c].dtype in ['float64', 'int64']:\n",
    "        num.append(c)\n",
    "    else:\n",
    "        obj.append(c)"
   ]
  },
  {
   "cell_type": "markdown",
   "metadata": {},
   "source": [
    "# Modeling\n",
    "Let's start with a baseline model, and see how it does."
   ]
  },
  {
   "cell_type": "code",
   "execution_count": 96,
   "metadata": {},
   "outputs": [],
   "source": [
    "# Creating a pool object for our catboost data.\n",
    "X_train_pool = Pool(X_train, y_train, obj)"
   ]
  },
  {
   "cell_type": "code",
   "execution_count": 98,
   "metadata": {},
   "outputs": [
    {
     "data": {
      "application/vnd.jupyter.widget-view+json": {
       "model_id": "0433b5e89fae4779b490a0e81a341c41",
       "version_major": 2,
       "version_minor": 0
      },
      "text/plain": [
       "MetricVisualizer(layout=Layout(align_self='stretch', height='500px'))"
      ]
     },
     "metadata": {},
     "output_type": "display_data"
    }
   ],
   "source": [
    "# Setting up the model\n",
    "base = CatBoostClassifier(\n",
    "    # Adding Accuracy as a metric\n",
    "    custom_loss=[metrics.Accuracy()],\n",
    "    random_seed=15,\n",
    "    logging_level='Silent'\n",
    ")\n",
    "\n",
    "base.fit(\n",
    "    X_train_pool,\n",
    "    # Using X/y test as eval set\n",
    "    # Uncomment below line to plot the learning of the model\n",
    "    plot=True\n",
    ");"
   ]
  },
  {
   "cell_type": "code",
   "execution_count": 103,
   "metadata": {},
   "outputs": [
    {
     "data": {
      "text/plain": [
       "{'learn': {'Accuracy': 0.8188720538720539, 'MultiClass': 0.44880357230715595}}"
      ]
     },
     "execution_count": 103,
     "metadata": {},
     "output_type": "execute_result"
    }
   ],
   "source": [
    "base.get_best_score()"
   ]
  },
  {
   "cell_type": "code",
   "execution_count": null,
   "metadata": {},
   "outputs": [],
   "source": []
  }
 ],
 "metadata": {
  "kernelspec": {
   "display_name": "KaggleJTP",
   "language": "python",
   "name": "kagglejtp"
  },
  "language_info": {
   "codemirror_mode": {
    "name": "ipython",
    "version": 3
   },
   "file_extension": ".py",
   "mimetype": "text/x-python",
   "name": "python",
   "nbconvert_exporter": "python",
   "pygments_lexer": "ipython3",
   "version": "3.9.7"
  }
 },
 "nbformat": 4,
 "nbformat_minor": 4
}
